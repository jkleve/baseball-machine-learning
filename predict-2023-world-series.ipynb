{
 "cells": [
  {
   "cell_type": "markdown",
   "id": "43f4377e-1505-49d4-8206-15490ee2334c",
   "metadata": {},
   "source": [
    "# MLB Playoff Predictions\n",
    "We can take historical MLB team statistics to train a model that can (inacurrately) predict the world series champions."
   ]
  },
  {
   "cell_type": "code",
   "execution_count": null,
   "id": "03fde65b-9489-4761-a137-f4af2bc97426",
   "metadata": {},
   "outputs": [],
   "source": [
    "import bigframes.pandas as bpd"
   ]
  },
  {
   "cell_type": "code",
   "execution_count": null,
   "id": "9b4888a5-8ff8-472d-9d70-b98fa4d0a7dc",
   "metadata": {},
   "outputs": [],
   "source": [
    "# ! gcloud auth login\n",
    "# ! gcloud config set project jessekleve\n",
    "# %set_env GOOGLE_APPLICATION_CREDENTIALS=/Users/jesse/.config/gcloud/application_default_credentials.json\n",
    "%set_env GOOGLE_APPLICATION_CREDENTIALS=/Users/jesse/jessekleve.key.json\n",
    "\n",
    "bpd.options.display.max_rows = 100\n",
    "bpd.options.bigquery.location = \"US\""
   ]
  },
  {
   "cell_type": "markdown",
   "id": "eea8c81d-09c0-41f4-84c9-adcafd096d66",
   "metadata": {},
   "source": [
    "# Load some data from big query\n",
    "\n",
    "This will do stuff behind the scenes but is not pulling records from Big Query locally. It creates a session and a temp table."
   ]
  },
  {
   "cell_type": "code",
   "execution_count": 66,
   "id": "e254499b-1b48-4f49-bcea-908beae70196",
   "metadata": {},
   "outputs": [
    {
     "data": {
      "application/vnd.jupyter.widget-view+json": {
       "model_id": "71b36178772542a79850bd8166b24665",
       "version_major": 2,
       "version_minor": 0
      },
      "text/plain": [
       "HTML(value='Query job 4b6cd88a-2a5c-4fa9-85c4-f28ffdad5ec5 is RUNNING. <a target=\"_blank\" href=\"https://consol…"
      ]
     },
     "metadata": {},
     "output_type": "display_data"
    },
    {
     "data": {
      "application/vnd.jupyter.widget-view+json": {
       "model_id": "3a99d6bfc2954df6b000f839f757ac8a",
       "version_major": 2,
       "version_minor": 0
      },
      "text/plain": [
       "HTML(value='Query job 338979ae-6663-415c-ae15-53b7def11981 is RUNNING. <a target=\"_blank\" href=\"https://consol…"
      ]
     },
     "metadata": {},
     "output_type": "display_data"
    }
   ],
   "source": [
    "team_data = bpd.read_gbq(\"jessekleve.baseball.teams\")\n",
    "champions = bpd.read_gbq(\"jessekleve.baseball.world_series\")"
   ]
  },
  {
   "cell_type": "markdown",
   "id": "070bf648-6879-4889-8a3a-dedf465adfe3",
   "metadata": {},
   "source": [
    "### Metadata\n",
    "We can look at some metadata about the table like the column names and types."
   ]
  },
  {
   "cell_type": "code",
   "execution_count": 68,
   "id": "46f695dd-d74f-4526-8be8-490d126d89ed",
   "metadata": {},
   "outputs": [
    {
     "data": {
      "text/plain": [
       "yearID                      Int64\n",
       "lgID              string[pyarrow]\n",
       "teamID            string[pyarrow]\n",
       "franchID          string[pyarrow]\n",
       "divID             string[pyarrow]\n",
       "Rank                        Int64\n",
       "G                           Int64\n",
       "Ghome                       Int64\n",
       "W                           Int64\n",
       "L                           Int64\n",
       "DivWin                    boolean\n",
       "WCWin                     boolean\n",
       "LgWin                     boolean\n",
       "WSWin                     boolean\n",
       "R                           Int64\n",
       "AB                          Int64\n",
       "H                           Int64\n",
       "_2B                         Int64\n",
       "_3B                         Int64\n",
       "HR                          Int64\n",
       "BB                          Int64\n",
       "SO                          Int64\n",
       "SB                          Int64\n",
       "CS                          Int64\n",
       "HBP                         Int64\n",
       "SF                          Int64\n",
       "RA                          Int64\n",
       "ER                          Int64\n",
       "ERA                       Float64\n",
       "CG                          Int64\n",
       "SHO                         Int64\n",
       "SV                          Int64\n",
       "IPouts                      Int64\n",
       "HA                          Int64\n",
       "HRA                         Int64\n",
       "BBA                         Int64\n",
       "SOA                         Int64\n",
       "E                           Int64\n",
       "DP                          Int64\n",
       "FP                        Float64\n",
       "name              string[pyarrow]\n",
       "park              string[pyarrow]\n",
       "attendance                  Int64\n",
       "BPF                         Int64\n",
       "PPF                         Int64\n",
       "teamIDBR          string[pyarrow]\n",
       "teamIDlahman45    string[pyarrow]\n",
       "teamIDretro       string[pyarrow]\n",
       "dtype: object"
      ]
     },
     "execution_count": 68,
     "metadata": {},
     "output_type": "execute_result"
    }
   ],
   "source": [
    "team_data.dtypes"
   ]
  },
  {
   "cell_type": "code",
   "execution_count": 69,
   "id": "ef54376f-bc8d-4869-b2f9-6b8b5ece81c5",
   "metadata": {},
   "outputs": [
    {
     "data": {
      "text/plain": [
       "yearID                    Int64\n",
       "round           string[pyarrow]\n",
       "teamIDwinner    string[pyarrow]\n",
       "lgIDwinner      string[pyarrow]\n",
       "teamIDloser     string[pyarrow]\n",
       "lgIDloser       string[pyarrow]\n",
       "wins                      Int64\n",
       "losses                    Int64\n",
       "ties                      Int64\n",
       "dtype: object"
      ]
     },
     "execution_count": 69,
     "metadata": {},
     "output_type": "execute_result"
    }
   ],
   "source": [
    "champions.dtypes"
   ]
  },
  {
   "cell_type": "code",
   "execution_count": 70,
   "id": "9d3e7ec8-e77d-4a32-9f0f-000101459f76",
   "metadata": {},
   "outputs": [
    {
     "data": {
      "application/vnd.jupyter.widget-view+json": {
       "model_id": "4ac5cdf0a64e4252b7acdedcd928364b",
       "version_major": 2,
       "version_minor": 0
      },
      "text/plain": [
       "HTML(value='Query job bc5d88e7-23f3-42bc-af4a-e92433133426 is DONE. 44.9 kB processed. <a target=\"_blank\" href…"
      ]
     },
     "metadata": {},
     "output_type": "display_data"
    },
    {
     "data": {
      "application/vnd.jupyter.widget-view+json": {
       "model_id": "228cb2d853ce456abcb6e32a7d02446b",
       "version_major": 2,
       "version_minor": 0
      },
      "text/plain": [
       "HTML(value='Query job 957d4d77-d9d7-4574-8ab5-aa9e0cc78fcd is DONE. 947.6 kB processed. <a target=\"_blank\" hre…"
      ]
     },
     "metadata": {},
     "output_type": "display_data"
    },
    {
     "data": {
      "text/html": [
       "<div>\n",
       "<style scoped>\n",
       "    .dataframe tbody tr th:only-of-type {\n",
       "        vertical-align: middle;\n",
       "    }\n",
       "\n",
       "    .dataframe tbody tr th {\n",
       "        vertical-align: top;\n",
       "    }\n",
       "\n",
       "    .dataframe thead th {\n",
       "        text-align: right;\n",
       "    }\n",
       "</style>\n",
       "<table border=\"1\" class=\"dataframe\">\n",
       "  <thead>\n",
       "    <tr style=\"text-align: right;\">\n",
       "      <th></th>\n",
       "      <th>yearID</th>\n",
       "      <th>lgID</th>\n",
       "      <th>teamID</th>\n",
       "      <th>franchID</th>\n",
       "      <th>divID</th>\n",
       "      <th>Rank</th>\n",
       "      <th>G</th>\n",
       "      <th>Ghome</th>\n",
       "      <th>W</th>\n",
       "      <th>L</th>\n",
       "      <th>...</th>\n",
       "      <th>DP</th>\n",
       "      <th>FP</th>\n",
       "      <th>name</th>\n",
       "      <th>park</th>\n",
       "      <th>attendance</th>\n",
       "      <th>BPF</th>\n",
       "      <th>PPF</th>\n",
       "      <th>teamIDBR</th>\n",
       "      <th>teamIDlahman45</th>\n",
       "      <th>teamIDretro</th>\n",
       "    </tr>\n",
       "  </thead>\n",
       "  <tbody>\n",
       "    <tr>\n",
       "      <th>2401</th>\n",
       "      <td>2015</td>\n",
       "      <td>NL</td>\n",
       "      <td>PIT</td>\n",
       "      <td>PIT</td>\n",
       "      <td>C</td>\n",
       "      <td>2</td>\n",
       "      <td>162</td>\n",
       "      <td>81</td>\n",
       "      <td>98</td>\n",
       "      <td>64</td>\n",
       "      <td>...</td>\n",
       "      <td>177</td>\n",
       "      <td>0.981</td>\n",
       "      <td>Pittsburgh Pirates</td>\n",
       "      <td>PNC Park</td>\n",
       "      <td>2498596</td>\n",
       "      <td>99</td>\n",
       "      <td>97</td>\n",
       "      <td>PIT</td>\n",
       "      <td>PIT</td>\n",
       "      <td>PIT</td>\n",
       "    </tr>\n",
       "    <tr>\n",
       "      <th>2458</th>\n",
       "      <td>2015</td>\n",
       "      <td>NL</td>\n",
       "      <td>SDN</td>\n",
       "      <td>SDP</td>\n",
       "      <td>W</td>\n",
       "      <td>4</td>\n",
       "      <td>162</td>\n",
       "      <td>81</td>\n",
       "      <td>74</td>\n",
       "      <td>88</td>\n",
       "      <td>...</td>\n",
       "      <td>138</td>\n",
       "      <td>0.985</td>\n",
       "      <td>San Diego Padres</td>\n",
       "      <td>Petco Park</td>\n",
       "      <td>2459742</td>\n",
       "      <td>98</td>\n",
       "      <td>97</td>\n",
       "      <td>SDP</td>\n",
       "      <td>SDN</td>\n",
       "      <td>SDN</td>\n",
       "    </tr>\n",
       "    <tr>\n",
       "      <th>2591</th>\n",
       "      <td>2015</td>\n",
       "      <td>NL</td>\n",
       "      <td>SFN</td>\n",
       "      <td>SFG</td>\n",
       "      <td>W</td>\n",
       "      <td>2</td>\n",
       "      <td>162</td>\n",
       "      <td>81</td>\n",
       "      <td>84</td>\n",
       "      <td>78</td>\n",
       "      <td>...</td>\n",
       "      <td>145</td>\n",
       "      <td>0.987</td>\n",
       "      <td>San Francisco Giants</td>\n",
       "      <td>AT&amp;T Park</td>\n",
       "      <td>3375882</td>\n",
       "      <td>99</td>\n",
       "      <td>97</td>\n",
       "      <td>SFG</td>\n",
       "      <td>SFN</td>\n",
       "      <td>SFN</td>\n",
       "    </tr>\n",
       "    <tr>\n",
       "      <th>2717</th>\n",
       "      <td>2015</td>\n",
       "      <td>NL</td>\n",
       "      <td>SLN</td>\n",
       "      <td>STL</td>\n",
       "      <td>C</td>\n",
       "      <td>1</td>\n",
       "      <td>162</td>\n",
       "      <td>81</td>\n",
       "      <td>100</td>\n",
       "      <td>62</td>\n",
       "      <td>...</td>\n",
       "      <td>159</td>\n",
       "      <td>0.984</td>\n",
       "      <td>St. Louis Cardinals</td>\n",
       "      <td>Busch Stadium III</td>\n",
       "      <td>3520889</td>\n",
       "      <td>102</td>\n",
       "      <td>101</td>\n",
       "      <td>STL</td>\n",
       "      <td>SLN</td>\n",
       "      <td>SLN</td>\n",
       "    </tr>\n",
       "    <tr>\n",
       "      <th>2784</th>\n",
       "      <td>2015</td>\n",
       "      <td>NL</td>\n",
       "      <td>WAS</td>\n",
       "      <td>WSN</td>\n",
       "      <td>E</td>\n",
       "      <td>2</td>\n",
       "      <td>162</td>\n",
       "      <td>81</td>\n",
       "      <td>83</td>\n",
       "      <td>79</td>\n",
       "      <td>...</td>\n",
       "      <td>125</td>\n",
       "      <td>0.985</td>\n",
       "      <td>Washington Nationals</td>\n",
       "      <td>Nationals Park</td>\n",
       "      <td>2619843</td>\n",
       "      <td>102</td>\n",
       "      <td>99</td>\n",
       "      <td>WSN</td>\n",
       "      <td>MON</td>\n",
       "      <td>WAS</td>\n",
       "    </tr>\n",
       "  </tbody>\n",
       "</table>\n",
       "<p>5 rows × 48 columns</p>\n",
       "</div>[5 rows x 48 columns in total]"
      ],
      "text/plain": [
       "      yearID lgID teamID franchID divID  Rank    G  Ghome    W   L  ...   DP  \\\n",
       "2401    2015   NL    PIT      PIT     C     2  162     81   98  64  ...  177   \n",
       "2458    2015   NL    SDN      SDP     W     4  162     81   74  88  ...  138   \n",
       "2591    2015   NL    SFN      SFG     W     2  162     81   84  78  ...  145   \n",
       "2717    2015   NL    SLN      STL     C     1  162     81  100  62  ...  159   \n",
       "2784    2015   NL    WAS      WSN     E     2  162     81   83  79  ...  125   \n",
       "\n",
       "         FP                  name               park  attendance  BPF  PPF  \\\n",
       "2401  0.981    Pittsburgh Pirates           PNC Park     2498596   99   97   \n",
       "2458  0.985      San Diego Padres         Petco Park     2459742   98   97   \n",
       "2591  0.987  San Francisco Giants          AT&T Park     3375882   99   97   \n",
       "2717  0.984   St. Louis Cardinals  Busch Stadium III     3520889  102  101   \n",
       "2784  0.985  Washington Nationals     Nationals Park     2619843  102   99   \n",
       "\n",
       "      teamIDBR  teamIDlahman45  teamIDretro  \n",
       "2401       PIT             PIT          PIT  \n",
       "2458       SDP             SDN          SDN  \n",
       "2591       SFG             SFN          SFN  \n",
       "2717       STL             SLN          SLN  \n",
       "2784       WSN             MON          WAS  \n",
       "\n",
       "[5 rows x 48 columns]"
      ]
     },
     "execution_count": 70,
     "metadata": {},
     "output_type": "execute_result"
    }
   ],
   "source": [
    "team_data.sort_values(by=\"yearID\").tail(5)"
   ]
  },
  {
   "cell_type": "code",
   "execution_count": 71,
   "id": "c17e7a12-0b55-4dce-8dfd-3977be01e6ab",
   "metadata": {},
   "outputs": [],
   "source": [
    "champions = champions[champions[\"yearID\"] >= 2015]"
   ]
  },
  {
   "cell_type": "code",
   "execution_count": 72,
   "id": "9410f86a-3cfb-4f5b-864a-386c391f117f",
   "metadata": {},
   "outputs": [],
   "source": [
    "train_data = champions.merge(team_data, how=\"inner\", on=\"yearID\")"
   ]
  },
  {
   "cell_type": "code",
   "execution_count": 73,
   "id": "7384cbcc-b028-4df6-b058-a22f7b0faa8d",
   "metadata": {},
   "outputs": [
    {
     "data": {
      "application/vnd.jupyter.widget-view+json": {
       "model_id": "d2f48b54288448b98c4f1087c39967a9",
       "version_major": 2,
       "version_minor": 0
      },
      "text/plain": [
       "HTML(value='Query job f048bd2a-5487-4cbd-ad82-b0b34336e52b is DONE. 24.9 kB processed. <a target=\"_blank\" href…"
      ]
     },
     "metadata": {},
     "output_type": "display_data"
    },
    {
     "data": {
      "text/plain": [
       "(270, 56)"
      ]
     },
     "execution_count": 73,
     "metadata": {},
     "output_type": "execute_result"
    }
   ],
   "source": [
    "train_data.shape"
   ]
  },
  {
   "cell_type": "markdown",
   "id": "1d5ab0c7-e2e4-4ff3-9f39-2be03f69557e",
   "metadata": {},
   "source": [
    "# Assign the label & prep the training data\n",
    "Here we can create a new row in the data which is a binary variable on whether the team won the world series or not. This will be the label that we train our model with. It's the output binary variable."
   ]
  },
  {
   "cell_type": "code",
   "execution_count": 75,
   "id": "192086a6-b905-496c-9c28-5822a9e43d0d",
   "metadata": {},
   "outputs": [],
   "source": [
    "train_data = train_data.assign(won=train_data[\"teamID\"] == train_data[\"teamIDwinner\"])"
   ]
  },
  {
   "cell_type": "code",
   "execution_count": 76,
   "id": "d0023173-8859-4c2f-a0a4-bd83f3137429",
   "metadata": {},
   "outputs": [],
   "source": [
    "# train_data.sort_values(by=\"won\")"
   ]
  },
  {
   "cell_type": "code",
   "execution_count": 77,
   "id": "ad0acecc-cc8d-455a-88c4-77c96b8d03be",
   "metadata": {},
   "outputs": [],
   "source": [
    "# train_data[[\"teamID\", \"teamIDwinner\", \"yearID\", \"won\"]].head(1000)"
   ]
  },
  {
   "cell_type": "code",
   "execution_count": 78,
   "id": "4eaaef8b-cfa8-49ca-9bc0-3da338a70f79",
   "metadata": {},
   "outputs": [],
   "source": [
    "# fields = [\"Rank\", \"W\", \"HR\", \"SO\", \"SB\", \"ER\", \"ERA\", \"FP\"]\n",
    "fields = [\"Rank\", \"W\", \"HR\", \"ER\", \"ERA\", \"FP\"]\n",
    "# fields = [\"W\", \"ER\", \"ERA\", \"FP\"]\n",
    "\n",
    "\n",
    "X = train_data[fields]\n",
    "y = train_data[[\"won\"]]"
   ]
  },
  {
   "cell_type": "code",
   "execution_count": 79,
   "id": "5dc0f552-2eda-452e-b5c8-fae42a346107",
   "metadata": {},
   "outputs": [],
   "source": [
    "# X.FP.isnull().unique()"
   ]
  },
  {
   "cell_type": "code",
   "execution_count": 80,
   "id": "bc70aaff-f243-477c-98c6-8d045edc9ded",
   "metadata": {},
   "outputs": [],
   "source": [
    "# X = X.dropna()"
   ]
  },
  {
   "cell_type": "code",
   "execution_count": 81,
   "id": "11537423-fb22-4856-85a9-0fa3b8e82a25",
   "metadata": {},
   "outputs": [],
   "source": [
    "# X.shape"
   ]
  },
  {
   "cell_type": "markdown",
   "id": "43418298-b8e3-48b7-aae6-04e303f19715",
   "metadata": {},
   "source": [
    "# Create a ML model\n",
    "\n",
    "Now with our training data we can submit jobs to Big Query that'll train a logistic regression model on our training data we have selected."
   ]
  },
  {
   "cell_type": "code",
   "execution_count": 82,
   "id": "1aafae30-86a3-4660-b621-07abff761a2a",
   "metadata": {},
   "outputs": [],
   "source": [
    "import bigframes.ml.linear_model as ml\n",
    "model = ml.LogisticRegression()"
   ]
  },
  {
   "cell_type": "markdown",
   "id": "89c8da28-e44a-49e2-a7c3-2d4ec6b9c4cf",
   "metadata": {},
   "source": [
    "#### Fit the model using our training data"
   ]
  },
  {
   "cell_type": "code",
   "execution_count": 83,
   "id": "efa9abf9-c964-499f-a7bc-223d264bf0aa",
   "metadata": {},
   "outputs": [
    {
     "data": {
      "application/vnd.jupyter.widget-view+json": {
       "model_id": "f0073a3d867241bead55d80f00afa12b",
       "version_major": 2,
       "version_minor": 0
      },
      "text/plain": [
       "HTML(value='Query job f91d347a-5911-4e16-881b-0841ebce7a6f is RUNNING. <a target=\"_blank\" href=\"https://consol…"
      ]
     },
     "metadata": {},
     "output_type": "display_data"
    },
    {
     "data": {
      "text/plain": [
       "LogisticRegression()"
      ]
     },
     "execution_count": 83,
     "metadata": {},
     "output_type": "execute_result"
    }
   ],
   "source": [
    "model.fit(X, y)"
   ]
  },
  {
   "cell_type": "markdown",
   "id": "1b23491f-a456-4e1e-8e1f-1307f21e7f79",
   "metadata": {},
   "source": [
    "# Save model\n",
    "\n",
    "With the model trained, we can save it for future use or even publish it to make it accessible to our applications through Google's API's. Training a model might take quite a bit of time and a lot of compute resources. Saving it and reloading it will save us time and money."
   ]
  },
  {
   "cell_type": "code",
   "execution_count": null,
   "id": "25ffb828-ef8b-46d5-bbcb-bd1e3e0c9316",
   "metadata": {},
   "outputs": [],
   "source": [
    "model.to_gbq(\"jessekleve.baseball.world_series_model\", replace=True)"
   ]
  },
  {
   "cell_type": "markdown",
   "id": "56fef7f6-139b-4a8f-b893-5a50483500f4",
   "metadata": {},
   "source": [
    "#### If you wanted to load the model"
   ]
  },
  {
   "cell_type": "code",
   "execution_count": null,
   "id": "f902a589-b8f2-4d67-b99c-bd04e6e09f3a",
   "metadata": {},
   "outputs": [],
   "source": [
    "# model = bpd.read_gbq_model(\"jessekleve.baseball.world_series_model\")"
   ]
  },
  {
   "cell_type": "markdown",
   "id": "448087d6-cfa6-4170-87c3-41668ddd8250",
   "metadata": {},
   "source": [
    "# Predict the world series!"
   ]
  },
  {
   "cell_type": "code",
   "execution_count": 84,
   "id": "83c90921-f944-4323-a0e8-fc7a92822edb",
   "metadata": {},
   "outputs": [
    {
     "data": {
      "application/vnd.jupyter.widget-view+json": {
       "model_id": "1dd99ea9f8664076b662b19a14549f6a",
       "version_major": 2,
       "version_minor": 0
      },
      "text/plain": [
       "HTML(value='Query job a39de333-c2b0-4401-98f5-36d176c96a2e is RUNNING. <a target=\"_blank\" href=\"https://consol…"
      ]
     },
     "metadata": {},
     "output_type": "display_data"
    }
   ],
   "source": [
    "data_2023 = bpd.read_gbq(\"jessekleve.baseball.data_2023\")"
   ]
  },
  {
   "cell_type": "code",
   "execution_count": 85,
   "id": "a1de80e5-dac5-46f5-9814-74c8722a1fcd",
   "metadata": {},
   "outputs": [
    {
     "data": {
      "application/vnd.jupyter.widget-view+json": {
       "model_id": "54953ff1633748cf806f59db2212e80e",
       "version_major": 2,
       "version_minor": 0
      },
      "text/plain": [
       "HTML(value='Query job 6c607dde-ff0c-4b9b-b056-6b462e8e0ea8 is DONE. 0 Bytes processed. <a target=\"_blank\" href…"
      ]
     },
     "metadata": {},
     "output_type": "display_data"
    },
    {
     "data": {
      "application/vnd.jupyter.widget-view+json": {
       "model_id": "117937d96b104bfabc67ee8107f51bad",
       "version_major": 2,
       "version_minor": 0
      },
      "text/plain": [
       "HTML(value='Query job 65fd1721-1dff-4ce9-8876-332930e903b3 is DONE. 1.2 kB processed. <a target=\"_blank\" href=…"
      ]
     },
     "metadata": {},
     "output_type": "display_data"
    },
    {
     "data": {
      "text/html": [
       "<div>\n",
       "<style scoped>\n",
       "    .dataframe tbody tr th:only-of-type {\n",
       "        vertical-align: middle;\n",
       "    }\n",
       "\n",
       "    .dataframe tbody tr th {\n",
       "        vertical-align: top;\n",
       "    }\n",
       "\n",
       "    .dataframe thead th {\n",
       "        text-align: right;\n",
       "    }\n",
       "</style>\n",
       "<table border=\"1\" class=\"dataframe\">\n",
       "  <thead>\n",
       "    <tr style=\"text-align: right;\">\n",
       "      <th></th>\n",
       "      <th>name</th>\n",
       "      <th>yearID</th>\n",
       "      <th>teamID</th>\n",
       "      <th>Rank</th>\n",
       "      <th>W</th>\n",
       "      <th>HR</th>\n",
       "      <th>SO</th>\n",
       "      <th>SB</th>\n",
       "      <th>ER</th>\n",
       "      <th>ERA</th>\n",
       "      <th>FP</th>\n",
       "    </tr>\n",
       "  </thead>\n",
       "  <tbody>\n",
       "    <tr>\n",
       "      <th>0</th>\n",
       "      <td>Atlanta Braves</td>\n",
       "      <td>2023</td>\n",
       "      <td>ATL</td>\n",
       "      <td>1</td>\n",
       "      <td>104</td>\n",
       "      <td>187</td>\n",
       "      <td>1516</td>\n",
       "      <td>132</td>\n",
       "      <td>662</td>\n",
       "      <td>108</td>\n",
       "      <td>0.986</td>\n",
       "    </tr>\n",
       "    <tr>\n",
       "      <th>1</th>\n",
       "      <td>Baltimore Orioles</td>\n",
       "      <td>2023</td>\n",
       "      <td>BAL</td>\n",
       "      <td>1</td>\n",
       "      <td>101</td>\n",
       "      <td>177</td>\n",
       "      <td>1431</td>\n",
       "      <td>114</td>\n",
       "      <td>629</td>\n",
       "      <td>106</td>\n",
       "      <td>0.988</td>\n",
       "    </tr>\n",
       "    <tr>\n",
       "      <th>2</th>\n",
       "      <td>Los Angeles Dodgers</td>\n",
       "      <td>2023</td>\n",
       "      <td>LAN</td>\n",
       "      <td>1</td>\n",
       "      <td>100</td>\n",
       "      <td>200</td>\n",
       "      <td>1388</td>\n",
       "      <td>105</td>\n",
       "      <td>652</td>\n",
       "      <td>108</td>\n",
       "      <td>0.987</td>\n",
       "    </tr>\n",
       "    <tr>\n",
       "      <th>3</th>\n",
       "      <td>Milwaukee Brewers</td>\n",
       "      <td>2023</td>\n",
       "      <td>ML4</td>\n",
       "      <td>1</td>\n",
       "      <td>92</td>\n",
       "      <td>198</td>\n",
       "      <td>1425</td>\n",
       "      <td>129</td>\n",
       "      <td>595</td>\n",
       "      <td>116</td>\n",
       "      <td>0.987</td>\n",
       "    </tr>\n",
       "    <tr>\n",
       "      <th>4</th>\n",
       "      <td>Minnesota Twins</td>\n",
       "      <td>2023</td>\n",
       "      <td>MIN</td>\n",
       "      <td>1</td>\n",
       "      <td>87</td>\n",
       "      <td>194</td>\n",
       "      <td>1560</td>\n",
       "      <td>86</td>\n",
       "      <td>624</td>\n",
       "      <td>111</td>\n",
       "      <td>0.988</td>\n",
       "    </tr>\n",
       "    <tr>\n",
       "      <th>5</th>\n",
       "      <td>Texas Rangers</td>\n",
       "      <td>2023</td>\n",
       "      <td>TEX</td>\n",
       "      <td>1</td>\n",
       "      <td>90</td>\n",
       "      <td>198</td>\n",
       "      <td>1351</td>\n",
       "      <td>79</td>\n",
       "      <td>683</td>\n",
       "      <td>105</td>\n",
       "      <td>0.99</td>\n",
       "    </tr>\n",
       "    <tr>\n",
       "      <th>6</th>\n",
       "      <td>Arizona Diamondbacks</td>\n",
       "      <td>2023</td>\n",
       "      <td>ARI</td>\n",
       "      <td>2</td>\n",
       "      <td>84</td>\n",
       "      <td>197</td>\n",
       "      <td>1351</td>\n",
       "      <td>166</td>\n",
       "      <td>713</td>\n",
       "      <td>98</td>\n",
       "      <td>0.99</td>\n",
       "    </tr>\n",
       "    <tr>\n",
       "      <th>7</th>\n",
       "      <td>Houston Astros</td>\n",
       "      <td>2023</td>\n",
       "      <td>HOU</td>\n",
       "      <td>2</td>\n",
       "      <td>90</td>\n",
       "      <td>201</td>\n",
       "      <td>1460</td>\n",
       "      <td>107</td>\n",
       "      <td>632</td>\n",
       "      <td>107</td>\n",
       "      <td>0.986</td>\n",
       "    </tr>\n",
       "    <tr>\n",
       "      <th>8</th>\n",
       "      <td>Philadelphia Phillies</td>\n",
       "      <td>2023</td>\n",
       "      <td>PHI</td>\n",
       "      <td>2</td>\n",
       "      <td>90</td>\n",
       "      <td>185</td>\n",
       "      <td>1454</td>\n",
       "      <td>141</td>\n",
       "      <td>645</td>\n",
       "      <td>107</td>\n",
       "      <td>0.984</td>\n",
       "    </tr>\n",
       "    <tr>\n",
       "      <th>9</th>\n",
       "      <td>Tampa Bay Rays</td>\n",
       "      <td>2023</td>\n",
       "      <td>TBA</td>\n",
       "      <td>2</td>\n",
       "      <td>99</td>\n",
       "      <td>177</td>\n",
       "      <td>1507</td>\n",
       "      <td>160</td>\n",
       "      <td>618</td>\n",
       "      <td>108</td>\n",
       "      <td>0.987</td>\n",
       "    </tr>\n",
       "    <tr>\n",
       "      <th>10</th>\n",
       "      <td>Miami Mariners</td>\n",
       "      <td>2023</td>\n",
       "      <td>MIA</td>\n",
       "      <td>3</td>\n",
       "      <td>84</td>\n",
       "      <td>191</td>\n",
       "      <td>1490</td>\n",
       "      <td>86</td>\n",
       "      <td>673</td>\n",
       "      <td>107</td>\n",
       "      <td>0.983</td>\n",
       "    </tr>\n",
       "    <tr>\n",
       "      <th>11</th>\n",
       "      <td>Toronto Blue Jays</td>\n",
       "      <td>2023</td>\n",
       "      <td>TOR</td>\n",
       "      <td>3</td>\n",
       "      <td>89</td>\n",
       "      <td>198</td>\n",
       "      <td>1528</td>\n",
       "      <td>99</td>\n",
       "      <td>610</td>\n",
       "      <td>113</td>\n",
       "      <td>0.988</td>\n",
       "    </tr>\n",
       "  </tbody>\n",
       "</table>\n",
       "<p>12 rows × 11 columns</p>\n",
       "</div>[12 rows x 11 columns in total]"
      ],
      "text/plain": [
       "                     name  yearID teamID  Rank    W   HR    SO   SB   ER  ERA  \\\n",
       "0          Atlanta Braves    2023    ATL     1  104  187  1516  132  662  108   \n",
       "1       Baltimore Orioles    2023    BAL     1  101  177  1431  114  629  106   \n",
       "2     Los Angeles Dodgers    2023    LAN     1  100  200  1388  105  652  108   \n",
       "3       Milwaukee Brewers    2023    ML4     1   92  198  1425  129  595  116   \n",
       "4         Minnesota Twins    2023    MIN     1   87  194  1560   86  624  111   \n",
       "5           Texas Rangers    2023    TEX     1   90  198  1351   79  683  105   \n",
       "6    Arizona Diamondbacks    2023    ARI     2   84  197  1351  166  713   98   \n",
       "7          Houston Astros    2023    HOU     2   90  201  1460  107  632  107   \n",
       "8   Philadelphia Phillies    2023    PHI     2   90  185  1454  141  645  107   \n",
       "9          Tampa Bay Rays    2023    TBA     2   99  177  1507  160  618  108   \n",
       "10         Miami Mariners    2023    MIA     3   84  191  1490   86  673  107   \n",
       "11      Toronto Blue Jays    2023    TOR     3   89  198  1528   99  610  113   \n",
       "\n",
       "       FP  \n",
       "0   0.986  \n",
       "1   0.988  \n",
       "2   0.987  \n",
       "3   0.987  \n",
       "4   0.988  \n",
       "5    0.99  \n",
       "6    0.99  \n",
       "7   0.986  \n",
       "8   0.984  \n",
       "9   0.987  \n",
       "10  0.983  \n",
       "11  0.988  \n",
       "\n",
       "[12 rows x 11 columns]"
      ]
     },
     "execution_count": 85,
     "metadata": {},
     "output_type": "execute_result"
    }
   ],
   "source": [
    "data_2023"
   ]
  },
  {
   "cell_type": "code",
   "execution_count": 86,
   "id": "05b647f9-2219-47fa-b104-ccc8b16edf02",
   "metadata": {},
   "outputs": [
    {
     "data": {
      "application/vnd.jupyter.widget-view+json": {
       "model_id": "35984cffbc904508aa20665169dd3a06",
       "version_major": 2,
       "version_minor": 0
      },
      "text/plain": [
       "HTML(value='Query job efadca47-cd61-4ff9-aae3-f95caad22dab is RUNNING. <a target=\"_blank\" href=\"https://consol…"
      ]
     },
     "metadata": {},
     "output_type": "display_data"
    },
    {
     "data": {
      "application/vnd.jupyter.widget-view+json": {
       "model_id": "3ed58ee70dbf4fdeaebcab13e3e572d3",
       "version_major": 2,
       "version_minor": 0
      },
      "text/plain": [
       "HTML(value='Query job 36cacb28-3298-444e-ab92-bc7976526b72 is DONE. 96 Bytes processed. <a target=\"_blank\" hre…"
      ]
     },
     "metadata": {},
     "output_type": "display_data"
    },
    {
     "data": {
      "application/vnd.jupyter.widget-view+json": {
       "model_id": "21c13b38cdf843df90af8c1ead280f11",
       "version_major": 2,
       "version_minor": 0
      },
      "text/plain": [
       "HTML(value='Query job 58902e59-42cd-4d25-b7e7-b411304b0822 is DONE. 0 Bytes processed. <a target=\"_blank\" href…"
      ]
     },
     "metadata": {},
     "output_type": "display_data"
    },
    {
     "data": {
      "application/vnd.jupyter.widget-view+json": {
       "model_id": "924cc694ba3244c889d9fa92a4de7243",
       "version_major": 2,
       "version_minor": 0
      },
      "text/plain": [
       "HTML(value='Query job 16ab0825-22b1-46de-919a-751615d8e3fe is DONE. 108 Bytes processed. <a target=\"_blank\" hr…"
      ]
     },
     "metadata": {},
     "output_type": "display_data"
    },
    {
     "data": {
      "text/html": [
       "<div>\n",
       "<style scoped>\n",
       "    .dataframe tbody tr th:only-of-type {\n",
       "        vertical-align: middle;\n",
       "    }\n",
       "\n",
       "    .dataframe tbody tr th {\n",
       "        vertical-align: top;\n",
       "    }\n",
       "\n",
       "    .dataframe thead th {\n",
       "        text-align: right;\n",
       "    }\n",
       "</style>\n",
       "<table border=\"1\" class=\"dataframe\">\n",
       "  <thead>\n",
       "    <tr style=\"text-align: right;\">\n",
       "      <th></th>\n",
       "      <th>predicted_won</th>\n",
       "    </tr>\n",
       "  </thead>\n",
       "  <tbody>\n",
       "    <tr>\n",
       "      <th>0</th>\n",
       "      <td>False</td>\n",
       "    </tr>\n",
       "    <tr>\n",
       "      <th>1</th>\n",
       "      <td>False</td>\n",
       "    </tr>\n",
       "    <tr>\n",
       "      <th>2</th>\n",
       "      <td>False</td>\n",
       "    </tr>\n",
       "    <tr>\n",
       "      <th>3</th>\n",
       "      <td>False</td>\n",
       "    </tr>\n",
       "    <tr>\n",
       "      <th>4</th>\n",
       "      <td>False</td>\n",
       "    </tr>\n",
       "    <tr>\n",
       "      <th>5</th>\n",
       "      <td>False</td>\n",
       "    </tr>\n",
       "    <tr>\n",
       "      <th>6</th>\n",
       "      <td>False</td>\n",
       "    </tr>\n",
       "    <tr>\n",
       "      <th>7</th>\n",
       "      <td>False</td>\n",
       "    </tr>\n",
       "    <tr>\n",
       "      <th>8</th>\n",
       "      <td>False</td>\n",
       "    </tr>\n",
       "    <tr>\n",
       "      <th>9</th>\n",
       "      <td>False</td>\n",
       "    </tr>\n",
       "    <tr>\n",
       "      <th>10</th>\n",
       "      <td>False</td>\n",
       "    </tr>\n",
       "    <tr>\n",
       "      <th>11</th>\n",
       "      <td>False</td>\n",
       "    </tr>\n",
       "  </tbody>\n",
       "</table>\n",
       "<p>12 rows × 1 columns</p>\n",
       "</div>[12 rows x 1 columns in total]"
      ],
      "text/plain": [
       "    predicted_won\n",
       "0           False\n",
       "1           False\n",
       "2           False\n",
       "3           False\n",
       "4           False\n",
       "5           False\n",
       "6           False\n",
       "7           False\n",
       "8           False\n",
       "9           False\n",
       "10          False\n",
       "11          False\n",
       "\n",
       "[12 rows x 1 columns]"
      ]
     },
     "execution_count": 86,
     "metadata": {},
     "output_type": "execute_result"
    }
   ],
   "source": [
    "model.predict(data_2023[fields])"
   ]
  },
  {
   "cell_type": "code",
   "execution_count": null,
   "id": "32bb8a4b-fa5b-4a5a-b330-8a52e08d2c54",
   "metadata": {},
   "outputs": [],
   "source": []
  }
 ],
 "metadata": {
  "kernelspec": {
   "display_name": "Python 3 (ipykernel)",
   "language": "python",
   "name": "python3"
  },
  "language_info": {
   "codemirror_mode": {
    "name": "ipython",
    "version": 3
   },
   "file_extension": ".py",
   "mimetype": "text/x-python",
   "name": "python",
   "nbconvert_exporter": "python",
   "pygments_lexer": "ipython3",
   "version": "3.11.4"
  }
 },
 "nbformat": 4,
 "nbformat_minor": 5
}
